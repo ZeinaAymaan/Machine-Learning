{
 "cells": [
  {
   "cell_type": "code",
   "execution_count": null,
   "metadata": {
    "collapsed": true
   },
   "outputs": [],
   "source": [
    "import pandas as pd\n",
    "import numpy as np"
   ]
  },
  {
   "cell_type": "code",
   "execution_count": null,
   "outputs": [],
   "source": [
    "songs = pd.read_csv(\"songsRecommendationSystem/Data/songsDataset.csv\")"
   ],
   "metadata": {
    "collapsed": false
   }
  },
  {
   "cell_type": "markdown",
   "source": [
    "A function that recommends songs using a user based collaborative filtering"
   ],
   "metadata": {
    "collapsed": false
   }
  },
  {
   "cell_type": "code",
   "execution_count": null,
   "outputs": [],
   "source": [
    "def recommendation(userID, songID, df):\n",
    "    newDf = df.copy()\n",
    "    #removing users with rating less than 4\n",
    "    lessRating = newDf[(df[\"\\'rating\\'\"] < 4)].index\n",
    "    newDf.drop(lessRating, inplace=True)\n",
    "\n",
    "    #get users with same song\n",
    "    sameUsers = np.array(newDf[newDf[\"'songID'\"] == songID][\"'userID'\"])\n",
    "    print(sameUsers)\n",
    "    newDf = newDf[newDf[\"'userID'\"].isin(sameUsers)]\n",
    "\n",
    "    #remove already watched songs\n",
    "    alreadyWatched = np.array(newDf[newDf[\"\\'userID\\'\"] == userID][\"\\'songID\\'\"])\n",
    "    #print(newDf[newDf[\"\\'userID\\'\"] == userID])\n",
    "    for i in alreadyWatched:\n",
    "        alreadyWatched = newDf[newDf[\"\\'songID\\'\"] == i].index\n",
    "        newDf.drop(alreadyWatched, inplace=True)\n",
    "    #print(newDf[newDf[\"\\'userID\\'\"] == userID])\n",
    "\n",
    "    #remove songs with less than 500 popularity\n",
    "    #frequency = newDf[\"'songID'\"].value_counts().sort_values()\n",
    "    #print(frequency)\n",
    "    #maxPop = frequency.max()\n",
    "    morePopularity = newDf[newDf.groupby(\"\\'songID\\'\")[\"\\'songID\\'\"].transform('count')>0] #>maxPop//3\n",
    "\n",
    "    #df.drop(lessPopularity, inplace=True)\n",
    "\n",
    "    #print(morePopularity.sort_values(by=\"'rating'\" ,ascending=False))\n",
    "    #morePopularity = morePopularity.sort_values(by=\"'rating'\" ,ascending=False)\n",
    "    #print(morePopularity)\n",
    "    #print(morePopularity[\"'songID'\"].nunique())\n",
    "    morePopularity = morePopularity.drop_duplicates(subset=\"'songID'\")\n",
    "    #print(morePopularity)\n",
    "    #print(morePopularity[\"'songID'\"].nunique())\n",
    "    return morePopularity\n"
   ],
   "metadata": {
    "collapsed": false
   }
  }
 ],
 "metadata": {
  "kernelspec": {
   "display_name": "Python 3",
   "language": "python",
   "name": "python3"
  },
  "language_info": {
   "codemirror_mode": {
    "name": "ipython",
    "version": 2
   },
   "file_extension": ".py",
   "mimetype": "text/x-python",
   "name": "python",
   "nbconvert_exporter": "python",
   "pygments_lexer": "ipython2",
   "version": "2.7.6"
  }
 },
 "nbformat": 4,
 "nbformat_minor": 0
}
