{
 "cells": [
  {
   "cell_type": "code",
   "execution_count": null,
   "metadata": {
    "collapsed": true
   },
   "outputs": [],
   "source": [
    "import pandas as pd\n",
    "import numpy as np"
   ]
  },
  {
   "cell_type": "markdown",
   "source": [
    "Reading the file"
   ],
   "metadata": {
    "collapsed": false
   }
  },
  {
   "cell_type": "code",
   "execution_count": null,
   "outputs": [],
   "source": [
    "lyrics = pd.read_csv(\"songsRecommendationSystem/Data/reducedfile.csv\")"
   ],
   "metadata": {
    "collapsed": false
   }
  },
  {
   "cell_type": "markdown",
   "source": [
    "Filtering dataset"
   ],
   "metadata": {
    "collapsed": false
   }
  },
  {
   "cell_type": "code",
   "execution_count": null,
   "outputs": [],
   "source": [
    "filtered = lyrics[lyrics['artist'].str.startswith('Genius')].index\n",
    "lyrics.drop(filtered, inplace=True)"
   ],
   "metadata": {
    "collapsed": false
   }
  },
  {
   "cell_type": "code",
   "execution_count": null,
   "outputs": [],
   "source": [
    "artistsFiltered = lyrics[lyrics['artist'].isin(['Genius Romanizations', 'Genius English Translations', 'Genius Brasil Tradues', 'Genius Traducciones al Espaol', 'Genius Traductions Franaises', 'Genius Trke eviri', 'Genius Russian Translations ( )', 'Genius Deutsche bersetzungen', 'Genius Traduzioni Italiane', 'Polskie tumaczenia Genius', 'Sports Genius', 'Rap Genius Deutschland','Genius Users','Spotify', 'Genius France', 'Genius', 'Genius Nederlandse Vertalingen', 'Unknown Artist', 'Genius Farsi Translations ( )', 'Genius Translations', 'Genius  (Chinese Translations)', 'Genius Srpski Prevodi', 'Genius Swedish Translations', 'Genius  (Japanese Translations)', 'Genius magyar fordtsok', 'Plylist', 'Genius India'])].index\n",
    "lyrics.drop(artistsFiltered, inplace=True)"
   ],
   "metadata": {
    "collapsed": false
   }
  },
  {
   "cell_type": "code",
   "execution_count": null,
   "outputs": [],
   "source": [
    "yearFilter = lyrics[lyrics['year']<1800].index\n",
    "lyrics.drop(yearFilter,inplace=True)"
   ],
   "metadata": {
    "collapsed": false
   }
  },
  {
   "cell_type": "code",
   "execution_count": null,
   "outputs": [],
   "source": [
    "lyrics['lyrics'] = lyrics['lyrics'].str.replace('​', '')\n",
    "lyrics['artist'] = lyrics['artist'].str.replace('​', '')\n",
    "lyrics['artist'] = lyrics['artist'].str.replace(' ', '')\n",
    "lyrics['title'] = lyrics['title'].str.replace('​', '')\n",
    "lyrics['lyrics'] = lyrics['lyrics'].str.replace('\\n' , ' ')\n",
    "lyrics['lyrics'] = lyrics['lyrics'].str.replace(' ', ' ')\n",
    "lyrics.drop(lyrics[lyrics['title'] == 'nan'].index, inplace=True)\n",
    "lyrics.drop(lyrics[lyrics['tag'] == 'misc'].index, inplace=True)"
   ],
   "metadata": {
    "collapsed": false
   }
  },
  {
   "cell_type": "code",
   "execution_count": null,
   "outputs": [],
   "source": [
    "lyrics['language'] = lyrics['language'].apply(lambda x: str(x))\n",
    "lyrics['language_cld3'] = lyrics['language_cld3'].apply(lambda x: str(x))\n",
    "lyrics['language_ft'] = lyrics['language_ft'].apply(lambda x: str(x))\n",
    "nullLang = lyrics[lyrics['language_cld3'] == 'nan'].index\n",
    "lyrics.drop(nullLang, inplace=True)\n",
    "nullLang = lyrics[lyrics['language_ft'] == 'nan'].index\n",
    "lyrics.drop(nullLang, inplace=True)"
   ],
   "metadata": {
    "collapsed": false
   }
  },
  {
   "cell_type": "code",
   "execution_count": null,
   "outputs": [],
   "source": [
    "lyrics['features'] = lyrics['features'].str.replace('{}', '')\n",
    "lyrics['features'] = lyrics['features'].str.replace('{', '')\n",
    "lyrics['features'] = lyrics['features'].str.replace('}', '')\n",
    "lyrics['features'] = lyrics['features'].str.replace('​', '')\n",
    "lyrics['features'] = lyrics['features'].str.replace('\"', '')\n",
    "lyrics['features'] = lyrics['features'].str.replace(\"'\", '')"
   ],
   "metadata": {
    "collapsed": false
   }
  },
  {
   "cell_type": "markdown",
   "source": [
    "Preparing data for TFIDF"
   ],
   "metadata": {
    "collapsed": false
   }
  },
  {
   "cell_type": "code",
   "execution_count": null,
   "outputs": [],
   "source": [
    "lyrics['data'] = lyrics['artist'] + ' ' + lyrics['artist'] + ' ' + lyrics['artist'] + ' ' + lyrics['artist'] + ' ' + lyrics['title'] + ' ' + lyrics['lyrics'] + ' ' + lyrics['title'] + ' ' + lyrics['artist'] + ' ' + lyrics['tag'] + ' ' + lyrics['tag'] + ' ' + lyrics['tag'] + ' ' + lyrics['tag'] + ' ' + lyrics['tag']"
   ],
   "metadata": {
    "collapsed": false
   }
  },
  {
   "cell_type": "code",
   "execution_count": null,
   "outputs": [],
   "source": [
    "dataNull = lyrics[lyrics['data'].isnull()].index\n",
    "lyrics.drop(dataNull, inplace=True)"
   ],
   "metadata": {
    "collapsed": false
   }
  },
  {
   "cell_type": "code",
   "execution_count": null,
   "outputs": [],
   "source": [
    "from sklearn.feature_extraction.text import TfidfVectorizer\n",
    "from sklearn.metrics.pairwise import cosine_similarity\n",
    "\n",
    "vectorizer = TfidfVectorizer()\n",
    "tfidf = vectorizer.fit_transform(lyrics['data'])\n"
   ],
   "metadata": {
    "collapsed": false
   }
  },
  {
   "cell_type": "code",
   "execution_count": null,
   "outputs": [],
   "source": [
    "song1 = lyrics.iloc[39479]['data'] #any random song\n",
    "\n",
    "newMatrix = vectorizer.transform([song1])\n",
    "\n",
    "cosineSimilarities = cosine_similarity(newMatrix, tfidf)\n",
    "cosineSimilarities"
   ],
   "metadata": {
    "collapsed": false
   }
  },
  {
   "cell_type": "markdown",
   "source": [
    "A function that takes an array of songs and returns the most similar ones"
   ],
   "metadata": {
    "collapsed": false
   }
  },
  {
   "cell_type": "code",
   "execution_count": null,
   "outputs": [],
   "source": [
    "def recommendation(data):\n",
    "\n",
    "    #texts = lyrics[lyrics['id'].isin(IDS)]['data']\n",
    "\n",
    "    # print(data)\n",
    "    lst = []\n",
    "    for text in data:\n",
    "\n",
    "        new_text_matrix= vectorizer.transform([text])\n",
    "        lst.append(new_text_matrix)\n",
    "\n",
    "    # print(lst)\n",
    "    lst = np.array(lst)\n",
    "\n",
    "    # print(lst)\n",
    "    similarities = []\n",
    "    for similarity in lst:\n",
    "        cosine_similarities = cosine_similarity(similarity, tfidf)\n",
    "        #cosine_similarities = cosine_similarities[0]\n",
    "        cosine_similarities = (-cosine_similarities).argsort()\n",
    "        print(cosine_similarities)\n",
    "        similarities.extend(cosine_similarities)\n",
    "        #print(similarities)\n",
    "    similarities = np.array(similarities)\n",
    "    print(similarities)\n",
    "    similarities = similarities.flatten(order='F')\n",
    "    print(similarities)\n",
    "    #sum(similarities, [])\n",
    "\n",
    "    #print(similarities)\n",
    "\n",
    "    #similarities = np.array(similarities)\n",
    "    #print(similarities.dtype)\n",
    "    #similarities = (-similarities).argsort()\n",
    "    #print(similarities)\n",
    "\n",
    "    # songs = []\n",
    "    #\n",
    "    # songs.append(lyrics.iloc[similarities[3]])\n",
    "    # songs.append(lyrics.iloc[similarities[1]])\n",
    "    # songs.append(lyrics.iloc[similarities[2]])\n",
    "    #\n",
    "    # # for song in similarities[:20]:\n",
    "    # #     songs.append(lyrics.iloc[song])\n",
    "    # print(songs)\n",
    "\n",
    "    # for array in similarities:\n",
    "    #\n",
    "    #     sorted_index=array.argsort()[0][::-1]\n",
    "    #\n",
    "    #     five_most_similar_text=[lyrics.iloc[i]['title'] for i in sorted_index[1:5]]\n",
    "    #\n",
    "    #     most_similar_text[sorted_index[0]]=five_most_similar_text\n",
    "\n",
    "    return similarities"
   ],
   "metadata": {
    "collapsed": false
   }
  }
 ],
 "metadata": {
  "kernelspec": {
   "display_name": "Python 3",
   "language": "python",
   "name": "python3"
  },
  "language_info": {
   "codemirror_mode": {
    "name": "ipython",
    "version": 2
   },
   "file_extension": ".py",
   "mimetype": "text/x-python",
   "name": "python",
   "nbconvert_exporter": "python",
   "pygments_lexer": "ipython2",
   "version": "2.7.6"
  }
 },
 "nbformat": 4,
 "nbformat_minor": 0
}
